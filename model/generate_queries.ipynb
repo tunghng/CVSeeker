{
 "cells": [
  {
   "cell_type": "markdown",
   "id": "7f4a96d5-4ff7-4268-a32f-71114530cc83",
   "metadata": {},
   "source": [
    "# <center> **Generate Synthetic Dataset**"
   ]
  },
  {
   "cell_type": "markdown",
   "id": "dfc35976-b2c0-486a-b048-99ff08d389aa",
   "metadata": {},
   "source": [
    "## **Load Data**"
   ]
  },
  {
   "cell_type": "code",
   "execution_count": 1,
   "id": "51a1a9f3-c468-4e72-aca5-688290b43fd3",
   "metadata": {},
   "outputs": [],
   "source": [
    "TRAIN_FOLDER = \"../data/train\"\n",
    "VAL_FOLDER = \"../data/val\"\n",
    "TEST_FOLDER = \"../data/test\""
   ]
  },
  {
   "cell_type": "code",
   "execution_count": 4,
   "id": "c3081a61-3a1f-4697-b0ce-6470a5affcc0",
   "metadata": {},
   "outputs": [],
   "source": [
    "from llama_index.core import VectorStoreIndex, SimpleDirectoryReader\n",
    "from llama_index.core.node_parser import SentenceSplitter\n",
    "\n",
    "def load_corpus(folder_name):\n",
    "    documents = SimpleDirectoryReader(folder_name).load_data()\n",
    "    parser = SentenceSplitter()\n",
    "    nodes = parser.get_nodes_from_documents(documents, show_progress=True)\n",
    "    return nodes"
   ]
  },
  {
   "cell_type": "code",
   "execution_count": 5,
   "id": "34c62aae-b5f5-4ae4-9461-4171e2ec019d",
   "metadata": {},
   "outputs": [
    {
     "name": "stderr",
     "output_type": "stream",
     "text": [
      "Ignoring wrong pointing object 8 0 (offset 0)\n",
      "Ignoring wrong pointing object 10 0 (offset 0)\n",
      "Ignoring wrong pointing object 12 0 (offset 0)\n",
      "Ignoring wrong pointing object 14 0 (offset 0)\n",
      "Ignoring wrong pointing object 16 0 (offset 0)\n",
      "Ignoring wrong pointing object 18 0 (offset 0)\n",
      "Ignoring wrong pointing object 20 0 (offset 0)\n",
      "Ignoring wrong pointing object 22 0 (offset 0)\n",
      "Ignoring wrong pointing object 24 0 (offset 0)\n"
     ]
    },
    {
     "data": {
      "application/vnd.jupyter.widget-view+json": {
       "model_id": "eeb51cae35a241f5b8b48e7212f0a5df",
       "version_major": 2,
       "version_minor": 0
      },
      "text/plain": [
       "Parsing nodes:   0%|          | 0/731 [00:00<?, ?it/s]"
      ]
     },
     "metadata": {},
     "output_type": "display_data"
    },
    {
     "data": {
      "application/vnd.jupyter.widget-view+json": {
       "model_id": "6254dafcd2334995b6023f9f3277c7ac",
       "version_major": 2,
       "version_minor": 0
      },
      "text/plain": [
       "Parsing nodes:   0%|          | 0/205 [00:00<?, ?it/s]"
      ]
     },
     "metadata": {},
     "output_type": "display_data"
    },
    {
     "data": {
      "application/vnd.jupyter.widget-view+json": {
       "model_id": "703ceaee73e64cd19518bf79c31e3ebf",
       "version_major": 2,
       "version_minor": 0
      },
      "text/plain": [
       "Parsing nodes:   0%|          | 0/106 [00:00<?, ?it/s]"
      ]
     },
     "metadata": {},
     "output_type": "display_data"
    }
   ],
   "source": [
    "train_nodes = load_corpus(TRAIN_FOLDER)\n",
    "val_nodes = load_corpus(VAL_FOLDER)\n",
    "test_nodes = load_corpus(TEST_FOLDER)"
   ]
  },
  {
   "cell_type": "markdown",
   "id": "27858f18-e132-4777-9e7f-71a02490212e",
   "metadata": {},
   "source": [
    "## **Generate Synthetic Queries**"
   ]
  },
  {
   "cell_type": "code",
   "execution_count": 6,
   "id": "a8dd53e7-00ea-45e0-a6cb-72e24f81617a",
   "metadata": {},
   "outputs": [],
   "source": [
    "from llama_index.finetuning import generate_qa_embedding_pairs\n",
    "from llama_index.core.evaluation import EmbeddingQAFinetuneDataset\n",
    "from llama_index.llms.openai import OpenAI\n",
    "import os\n",
    "\n",
    "OPENAI_API_TOKEN = \"sk-\"\n",
    "os.environ[\"OPENAI_API_KEY\"] = OPENAI_API_TOKEN"
   ]
  },
  {
   "cell_type": "code",
   "execution_count": 7,
   "id": "3bda5873-9a23-46f2-8800-3d17622e8557",
   "metadata": {},
   "outputs": [
    {
     "name": "stderr",
     "output_type": "stream",
     "text": [
      "100%|██████████| 1491/1491 [47:44<00:00,  1.92s/it] \n"
     ]
    }
   ],
   "source": [
    "train_dataset = generate_qa_embedding_pairs(\n",
    "    llm=OpenAI(model=\"gpt-3.5-turbo\"), nodes=train_nodes\n",
    ")"
   ]
  },
  {
   "cell_type": "code",
   "execution_count": 8,
   "id": "44d930ad-941d-4695-9716-6615a1d0b9cc",
   "metadata": {},
   "outputs": [
    {
     "name": "stderr",
     "output_type": "stream",
     "text": [
      "100%|██████████| 418/418 [12:59<00:00,  1.86s/it]\n"
     ]
    }
   ],
   "source": [
    "val_dataset = generate_qa_embedding_pairs(\n",
    "    llm=OpenAI(model=\"gpt-3.5-turbo\"), nodes=val_nodes\n",
    ")"
   ]
  },
  {
   "cell_type": "code",
   "execution_count": 9,
   "id": "a59c880d-ffbb-4cff-ab22-5510709e340d",
   "metadata": {},
   "outputs": [
    {
     "name": "stderr",
     "output_type": "stream",
     "text": [
      "100%|██████████| 196/196 [07:04<00:00,  2.17s/it]\n"
     ]
    }
   ],
   "source": [
    "test_dataset = generate_qa_embedding_pairs(\n",
    "    llm=OpenAI(model=\"gpt-3.5-turbo\"), nodes=test_nodes\n",
    ")"
   ]
  },
  {
   "cell_type": "code",
   "execution_count": 10,
   "id": "c9d08aef-c6f6-4f6c-9b76-c1d7787a6791",
   "metadata": {},
   "outputs": [],
   "source": [
    "train_dataset.save_json(\"data/train_dataset.json\")\n",
    "val_dataset.save_json(\"data/val_dataset.json\")\n",
    "test_dataset.save_json(\"data/test_dataset.json\")"
   ]
  }
 ],
 "metadata": {
  "kernelspec": {
   "display_name": "Python 3 (ipykernel)",
   "language": "python",
   "name": "python3"
  },
  "language_info": {
   "codemirror_mode": {
    "name": "ipython",
    "version": 3
   },
   "file_extension": ".py",
   "mimetype": "text/x-python",
   "name": "python",
   "nbconvert_exporter": "python",
   "pygments_lexer": "ipython3",
   "version": "3.11.7"
  }
 },
 "nbformat": 4,
 "nbformat_minor": 5
}
